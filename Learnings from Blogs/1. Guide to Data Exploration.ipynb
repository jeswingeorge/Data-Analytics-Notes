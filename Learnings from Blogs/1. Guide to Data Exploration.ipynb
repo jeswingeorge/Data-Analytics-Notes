{
 "cells": [
  {
   "cell_type": "markdown",
   "metadata": {},
   "source": [
    "# [Analytcis vidhya - A Comprehensive Guide to Data Exploration](https://www.analyticsvidhya.com/blog/2016/01/guide-data-exploration/)"
   ]
  },
  {
   "cell_type": "markdown",
   "metadata": {},
   "source": [
    "## 1. Steps of Data Exploration and Preparation\n",
    "\n",
    "Remember the quality of your inputs decide the quality of your output. So, once you have got your business hypothesis ready, it makes sense to spend lot of time and efforts here. With my personal estimate, data exploration, cleaning and preparation can take up to 70% of your total project time.\n",
    "\n",
    "Below are the steps involved to understand, clean and prepare your data for building your predictive model:\n",
    "\n",
    "1. Variable Identification\n",
    "2. Univariate Analysis\n",
    "3. Bi-variate Analysis\n",
    "4. Missing values treatment\n",
    "5. Outlier treatment\n",
    "6. Variable transformation\n",
    "7. Variable creation\n",
    "\n",
    "\n",
    "Finally, we will need to iterate over steps 4 – 7 multiple times before we come up with our refined model.\n",
    "\n",
    "### 1. Variable Identification\n",
    "\n",
    "First, identify __Predictor (Input)__ and __Target (output)__ variables. \n",
    "\n",
    "Next, identify the __data type__ and __category__ of the variables.\n",
    "\n",
    "![](1.variable_id.PNG)"
   ]
  },
  {
   "cell_type": "markdown",
   "metadata": {},
   "source": [
    "### 2. Univariate Analysis\n",
    "\n",
    "At this stage, we explore variables one by one. Method to perform uni-variate analysis will depend on whether the variable type is categorical or continuous.\n",
    "\n",
    "__Continuous Variables:__ In case of continuous variables, we need to understand the central tendency and spread of the variable. These are measured using various statistical metrics and visualization methods. Univariate analysis is also used to highlight missing and outlier values.\n",
    "\n",
    "![](1.univariate.PNG)\n",
    "\n",
    "__Categorical Variables:__ For categorical variables, we’ll use frequency table to understand distribution of each category. We can also read as percentage of values under each category. It can be be measured using two metrics, __Count__ and __Count%__ against each category. Bar chart can be used as visualization.\n",
    "\n",
    "\n",
    "### 3. Bi-variate Analysis\n",
    "\n",
    "Bi-variate Analysis finds out the relationship between two variables. Here, we look for association and disassociation between variables at a pre-defined significance level. We can perform bi-variate analysis for any combination of categorical and continuous variables. The combination can be: Categorical & Categorical, Categorical & Continuous and Continuous & Continuous. Different methods are used to tackle these combinations during analysis process.\n",
    "\n",
    "Let’s understand the possible combinations in detail:\n",
    "\n",
    "__Continuous & Continuous:__ While doing bi-variate analysis between two continuous variables, we should look at scatter plot. It is a nifty way to find out the relationship between two variables. The pattern of scatter plot indicates the relationship between variables. The relationship can be linear or non-linear.\n",
    "\n",
    "![](1.scatter-plot.PNG)\n",
    "\n",
    "Scatter plot shows the relationship between two variable but does not indicates the strength of relationship amongst them. To find the strength of the relationship, we use Correlation. Correlation varies between -1 and +1.\n",
    "\n",
    "- -1: perfect negative linear correlation\n",
    "- +1:perfect positive linear correlation and \n",
    "-  0: No correlation\n",
    "\n",
    "Correlation can be derived using following formula:\n",
    "\n",
    "__Correlation = Covariance(X,Y) / SQRT( Var(X)* Var(Y))__"
   ]
  },
  {
   "cell_type": "code",
   "execution_count": null,
   "metadata": {},
   "outputs": [],
   "source": []
  },
  {
   "cell_type": "code",
   "execution_count": null,
   "metadata": {},
   "outputs": [],
   "source": []
  },
  {
   "cell_type": "code",
   "execution_count": null,
   "metadata": {},
   "outputs": [],
   "source": []
  },
  {
   "cell_type": "code",
   "execution_count": null,
   "metadata": {},
   "outputs": [],
   "source": []
  },
  {
   "cell_type": "code",
   "execution_count": null,
   "metadata": {},
   "outputs": [],
   "source": []
  },
  {
   "cell_type": "code",
   "execution_count": null,
   "metadata": {},
   "outputs": [],
   "source": []
  }
 ],
 "metadata": {
  "kernelspec": {
   "display_name": "Python 3",
   "language": "python",
   "name": "python3"
  },
  "language_info": {
   "codemirror_mode": {
    "name": "ipython",
    "version": 3
   },
   "file_extension": ".py",
   "mimetype": "text/x-python",
   "name": "python",
   "nbconvert_exporter": "python",
   "pygments_lexer": "ipython3",
   "version": "3.7.2"
  }
 },
 "nbformat": 4,
 "nbformat_minor": 2
}
