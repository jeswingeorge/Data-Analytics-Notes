{
 "cells": [
  {
   "cell_type": "markdown",
   "metadata": {},
   "source": [
    "## Unapply apply a custom aggregating function in pandas\n",
    "\n",
    "- Goal: Optimize custom aggregating function when grouping.\n",
    "- Groupby apply can be one of the slowest operations in pandas.\n",
    "- Huge performance gain by using the built-in functions.\n",
    "- simple contrived to show how to efficiently rewrite a groupby apply that is passed a custom function."
   ]
  },
  {
   "cell_type": "code",
   "execution_count": 1,
   "metadata": {},
   "outputs": [],
   "source": [
    "import pandas as pd\n",
    "import numpy as np"
   ]
  },
  {
   "cell_type": "code",
   "execution_count": 2,
   "metadata": {},
   "outputs": [
    {
     "data": {
      "text/plain": [
       "1000000"
      ]
     },
     "execution_count": 2,
     "metadata": {},
     "output_type": "execute_result"
    }
   ],
   "source": [
    "n = 1_000_000   ## 1000000 rows\n",
    "n"
   ]
  },
  {
   "cell_type": "code",
   "execution_count": 3,
   "metadata": {},
   "outputs": [
    {
     "data": {
      "text/html": [
       "<div>\n",
       "<style scoped>\n",
       "    .dataframe tbody tr th:only-of-type {\n",
       "        vertical-align: middle;\n",
       "    }\n",
       "\n",
       "    .dataframe tbody tr th {\n",
       "        vertical-align: top;\n",
       "    }\n",
       "\n",
       "    .dataframe thead th {\n",
       "        text-align: right;\n",
       "    }\n",
       "</style>\n",
       "<table border=\"1\" class=\"dataframe\">\n",
       "  <thead>\n",
       "    <tr style=\"text-align: right;\">\n",
       "      <th></th>\n",
       "      <th>group</th>\n",
       "      <th>value</th>\n",
       "    </tr>\n",
       "  </thead>\n",
       "  <tbody>\n",
       "    <tr>\n",
       "      <th>0</th>\n",
       "      <td>45</td>\n",
       "      <td>0.386989</td>\n",
       "    </tr>\n",
       "    <tr>\n",
       "      <th>1</th>\n",
       "      <td>71</td>\n",
       "      <td>0.357759</td>\n",
       "    </tr>\n",
       "    <tr>\n",
       "      <th>2</th>\n",
       "      <td>958</td>\n",
       "      <td>0.188228</td>\n",
       "    </tr>\n",
       "    <tr>\n",
       "      <th>3</th>\n",
       "      <td>485</td>\n",
       "      <td>0.761128</td>\n",
       "    </tr>\n",
       "    <tr>\n",
       "      <th>4</th>\n",
       "      <td>561</td>\n",
       "      <td>0.613681</td>\n",
       "    </tr>\n",
       "  </tbody>\n",
       "</table>\n",
       "</div>"
      ],
      "text/plain": [
       "   group     value\n",
       "0     45  0.386989\n",
       "1     71  0.357759\n",
       "2    958  0.188228\n",
       "3    485  0.761128\n",
       "4    561  0.613681"
      ]
     },
     "execution_count": 3,
     "metadata": {},
     "output_type": "execute_result"
    }
   ],
   "source": [
    "df = pd.DataFrame({'group': np.random.randint(0, 1000, n),   ## 1000 groups \n",
    "                  'value': np.random.rand(n)})\n",
    "df.head()"
   ]
  },
  {
   "cell_type": "markdown",
   "metadata": {},
   "source": [
    "## Problem statement\n",
    "For each group, calculate the sum, mean, median and difference between the mean and median of the __value__ column but only for values greater than .5 \n",
    "\n",
    "- This can be done easily using filtering rows based on values greater than 0.5.\n",
    "- Want to do this using a custom grouping function, how to unapply apply.\n",
    "\n",
    "Eg: sum, mean, median are built-in functions. There are 15 to 20 aggregation functions.\n",
    "\n",
    "| __Aggregation__   | __Description__                 |\n",
    "|-------------------|---------------------------------|\n",
    "| count()           | Total number of items           |\n",
    "| first(),  last()  | First and last item             |\n",
    "| mean(),  median() | Mean and median                 |\n",
    "| min(),  max()     | Minimum and maximum             |\n",
    "| std(),  var()     | Standard deviation and variance |\n",
    "| mad()             | Mean absolute deviation         |\n",
    "| prod()            | Product of all items            |\n",
    "| sum()             | Sum of all items                |\n",
    "\n"
   ]
  },
  {
   "cell_type": "code",
   "execution_count": 4,
   "metadata": {},
   "outputs": [
    {
     "data": {
      "text/html": [
       "<div>\n",
       "<style scoped>\n",
       "    .dataframe tbody tr th:only-of-type {\n",
       "        vertical-align: middle;\n",
       "    }\n",
       "\n",
       "    .dataframe tbody tr th {\n",
       "        vertical-align: top;\n",
       "    }\n",
       "\n",
       "    .dataframe thead th {\n",
       "        text-align: right;\n",
       "    }\n",
       "</style>\n",
       "<table border=\"1\" class=\"dataframe\">\n",
       "  <thead>\n",
       "    <tr style=\"text-align: right;\">\n",
       "      <th></th>\n",
       "      <th>sum</th>\n",
       "      <th>mean</th>\n",
       "      <th>median</th>\n",
       "    </tr>\n",
       "    <tr>\n",
       "      <th>group</th>\n",
       "      <th></th>\n",
       "      <th></th>\n",
       "      <th></th>\n",
       "    </tr>\n",
       "  </thead>\n",
       "  <tbody>\n",
       "    <tr>\n",
       "      <th>0</th>\n",
       "      <td>501.266413</td>\n",
       "      <td>0.510455</td>\n",
       "      <td>0.525660</td>\n",
       "    </tr>\n",
       "    <tr>\n",
       "      <th>1</th>\n",
       "      <td>525.020440</td>\n",
       "      <td>0.494370</td>\n",
       "      <td>0.500109</td>\n",
       "    </tr>\n",
       "    <tr>\n",
       "      <th>2</th>\n",
       "      <td>481.266696</td>\n",
       "      <td>0.498722</td>\n",
       "      <td>0.501171</td>\n",
       "    </tr>\n",
       "    <tr>\n",
       "      <th>3</th>\n",
       "      <td>515.323021</td>\n",
       "      <td>0.507208</td>\n",
       "      <td>0.505947</td>\n",
       "    </tr>\n",
       "    <tr>\n",
       "      <th>4</th>\n",
       "      <td>479.473274</td>\n",
       "      <td>0.499972</td>\n",
       "      <td>0.498460</td>\n",
       "    </tr>\n",
       "  </tbody>\n",
       "</table>\n",
       "</div>"
      ],
      "text/plain": [
       "              sum      mean    median\n",
       "group                                \n",
       "0      501.266413  0.510455  0.525660\n",
       "1      525.020440  0.494370  0.500109\n",
       "2      481.266696  0.498722  0.501171\n",
       "3      515.323021  0.507208  0.505947\n",
       "4      479.473274  0.499972  0.498460"
      ]
     },
     "execution_count": 4,
     "metadata": {},
     "output_type": "execute_result"
    }
   ],
   "source": [
    "df.groupby('group')['value'].agg(['sum', 'mean', 'median']).head()"
   ]
  },
  {
   "cell_type": "markdown",
   "metadata": {},
   "source": [
    "We are forced to write a custom aggregating function as we dont have any function that can provide the condition to fetch values > 0.5.  \n",
    "\n",
    "### Function Explanation\n",
    "Pass dataframe to custom aggregate functions. So first we need to built a function such that values are greater than 0.5. So here x - dataframe."
   ]
  },
  {
   "cell_type": "code",
   "execution_count": 5,
   "metadata": {},
   "outputs": [],
   "source": [
    "def f(x):\n",
    "    filt = x['value'] > .5   # group-independent operation\n",
    "    high_values = x.loc[filt, 'value']\n",
    "    sum_ = high_values.sum()  ## sum_ as sum is a reserved word. Output of this will be a pandas series\n",
    "    mean_ = high_values.mean()\n",
    "    median_ = high_values.median()\n",
    "    diff = mean_ - median_\n",
    "    return (pd.Series({'sum': sum_,\n",
    "                      'mean': mean_,\n",
    "                      'median': median_,\n",
    "                      'diff': diff}))\n",
    "\n",
    "## way to create new column for each aggregation is to return it as a series and can make a dictionary to map a new column name \n",
    "## to each aggregation."
   ]
  },
  {
   "cell_type": "code",
   "execution_count": 6,
   "metadata": {},
   "outputs": [
    {
     "data": {
      "text/plain": [
       "pandas.core.frame.DataFrame"
      ]
     },
     "execution_count": 6,
     "metadata": {},
     "output_type": "execute_result"
    }
   ],
   "source": [
    "type(df.groupby('group').apply(f))"
   ]
  },
  {
   "cell_type": "code",
   "execution_count": 7,
   "metadata": {},
   "outputs": [
    {
     "data": {
      "text/html": [
       "<div>\n",
       "<style scoped>\n",
       "    .dataframe tbody tr th:only-of-type {\n",
       "        vertical-align: middle;\n",
       "    }\n",
       "\n",
       "    .dataframe tbody tr th {\n",
       "        vertical-align: top;\n",
       "    }\n",
       "\n",
       "    .dataframe thead th {\n",
       "        text-align: right;\n",
       "    }\n",
       "</style>\n",
       "<table border=\"1\" class=\"dataframe\">\n",
       "  <thead>\n",
       "    <tr style=\"text-align: right;\">\n",
       "      <th></th>\n",
       "      <th>sum</th>\n",
       "      <th>mean</th>\n",
       "      <th>median</th>\n",
       "      <th>diff</th>\n",
       "    </tr>\n",
       "    <tr>\n",
       "      <th>group</th>\n",
       "      <th></th>\n",
       "      <th></th>\n",
       "      <th></th>\n",
       "      <th></th>\n",
       "    </tr>\n",
       "  </thead>\n",
       "  <tbody>\n",
       "    <tr>\n",
       "      <th>0</th>\n",
       "      <td>385.825433</td>\n",
       "      <td>0.750633</td>\n",
       "      <td>0.746220</td>\n",
       "      <td>0.004413</td>\n",
       "    </tr>\n",
       "    <tr>\n",
       "      <th>1</th>\n",
       "      <td>392.238185</td>\n",
       "      <td>0.737290</td>\n",
       "      <td>0.737580</td>\n",
       "      <td>-0.000291</td>\n",
       "    </tr>\n",
       "    <tr>\n",
       "      <th>2</th>\n",
       "      <td>364.483918</td>\n",
       "      <td>0.753066</td>\n",
       "      <td>0.747955</td>\n",
       "      <td>0.005111</td>\n",
       "    </tr>\n",
       "    <tr>\n",
       "      <th>3</th>\n",
       "      <td>388.433390</td>\n",
       "      <td>0.751322</td>\n",
       "      <td>0.756156</td>\n",
       "      <td>-0.004834</td>\n",
       "    </tr>\n",
       "    <tr>\n",
       "      <th>4</th>\n",
       "      <td>357.017243</td>\n",
       "      <td>0.746898</td>\n",
       "      <td>0.739531</td>\n",
       "      <td>0.007367</td>\n",
       "    </tr>\n",
       "  </tbody>\n",
       "</table>\n",
       "</div>"
      ],
      "text/plain": [
       "              sum      mean    median      diff\n",
       "group                                          \n",
       "0      385.825433  0.750633  0.746220  0.004413\n",
       "1      392.238185  0.737290  0.737580 -0.000291\n",
       "2      364.483918  0.753066  0.747955  0.005111\n",
       "3      388.433390  0.751322  0.756156 -0.004834\n",
       "4      357.017243  0.746898  0.739531  0.007367"
      ]
     },
     "execution_count": 7,
     "metadata": {},
     "output_type": "execute_result"
    }
   ],
   "source": [
    "df.groupby('group').apply(f).head()"
   ]
  },
  {
   "cell_type": "markdown",
   "metadata": {},
   "source": [
    "Observe it is taking longer time as compared to built-in functions. It is very slow.\n",
    "\n",
    "## Correct result but slow\n",
    "- custom function is run for each group. i.e., it will run each time for each of the groups\n",
    "- custom function is not optimized like built-in functions.\n",
    "\n",
    "So we are not going to rely on apply or custom-aggregate functions.\n",
    "\n",
    "## Steps to unapply apply\n",
    "1. Compute group-independent operations before groupby. These calculations are applied to the entire DataFrame as a whole.\n",
    "2. Create new columns in your dataframe that contains the result of these new calculations from step 1.\n",
    "3. Use the built-in groupby aggregation methods. Do not use custom functions.\n",
    "4. Calculate these columns that depend on aggregation result after grouping.\n",
    "\n",
    "## Optimize"
   ]
  },
  {
   "cell_type": "code",
   "execution_count": 8,
   "metadata": {},
   "outputs": [],
   "source": [
    "# calculate new column with filter first\n",
    "filt = df['value'] > 0.5"
   ]
  },
  {
   "cell_type": "markdown",
   "metadata": {},
   "source": [
    "Now we want to filter out these values for each group. Use `where()` function, it will retain the values which has True and put NaN for False values.\n",
    "\n",
    "[Pandas where](https://pandas.pydata.org/pandas-docs/stable/reference/api/pandas.DataFrame.where.html)"
   ]
  },
  {
   "cell_type": "code",
   "execution_count": 9,
   "metadata": {},
   "outputs": [
    {
     "data": {
      "text/plain": [
       "0         NaN\n",
       "1         NaN\n",
       "2         NaN\n",
       "3    0.761128\n",
       "4    0.613681\n",
       "5         NaN\n",
       "6    0.763550\n",
       "7    0.593056\n",
       "Name: value, dtype: float64"
      ]
     },
     "execution_count": 9,
     "metadata": {},
     "output_type": "execute_result"
    }
   ],
   "source": [
    "df['value'].where(filt).head(8)"
   ]
  },
  {
   "cell_type": "code",
   "execution_count": 10,
   "metadata": {},
   "outputs": [
    {
     "data": {
      "text/html": [
       "<div>\n",
       "<style scoped>\n",
       "    .dataframe tbody tr th:only-of-type {\n",
       "        vertical-align: middle;\n",
       "    }\n",
       "\n",
       "    .dataframe tbody tr th {\n",
       "        vertical-align: top;\n",
       "    }\n",
       "\n",
       "    .dataframe thead th {\n",
       "        text-align: right;\n",
       "    }\n",
       "</style>\n",
       "<table border=\"1\" class=\"dataframe\">\n",
       "  <thead>\n",
       "    <tr style=\"text-align: right;\">\n",
       "      <th></th>\n",
       "      <th>group</th>\n",
       "      <th>value</th>\n",
       "      <th>value_large</th>\n",
       "    </tr>\n",
       "  </thead>\n",
       "  <tbody>\n",
       "    <tr>\n",
       "      <th>0</th>\n",
       "      <td>45</td>\n",
       "      <td>0.386989</td>\n",
       "      <td>NaN</td>\n",
       "    </tr>\n",
       "    <tr>\n",
       "      <th>1</th>\n",
       "      <td>71</td>\n",
       "      <td>0.357759</td>\n",
       "      <td>NaN</td>\n",
       "    </tr>\n",
       "    <tr>\n",
       "      <th>2</th>\n",
       "      <td>958</td>\n",
       "      <td>0.188228</td>\n",
       "      <td>NaN</td>\n",
       "    </tr>\n",
       "    <tr>\n",
       "      <th>3</th>\n",
       "      <td>485</td>\n",
       "      <td>0.761128</td>\n",
       "      <td>0.761128</td>\n",
       "    </tr>\n",
       "    <tr>\n",
       "      <th>4</th>\n",
       "      <td>561</td>\n",
       "      <td>0.613681</td>\n",
       "      <td>0.613681</td>\n",
       "    </tr>\n",
       "    <tr>\n",
       "      <th>5</th>\n",
       "      <td>500</td>\n",
       "      <td>0.332465</td>\n",
       "      <td>NaN</td>\n",
       "    </tr>\n",
       "    <tr>\n",
       "      <th>6</th>\n",
       "      <td>649</td>\n",
       "      <td>0.763550</td>\n",
       "      <td>0.763550</td>\n",
       "    </tr>\n",
       "    <tr>\n",
       "      <th>7</th>\n",
       "      <td>982</td>\n",
       "      <td>0.593056</td>\n",
       "      <td>0.593056</td>\n",
       "    </tr>\n",
       "    <tr>\n",
       "      <th>8</th>\n",
       "      <td>220</td>\n",
       "      <td>0.159911</td>\n",
       "      <td>NaN</td>\n",
       "    </tr>\n",
       "  </tbody>\n",
       "</table>\n",
       "</div>"
      ],
      "text/plain": [
       "   group     value  value_large\n",
       "0     45  0.386989          NaN\n",
       "1     71  0.357759          NaN\n",
       "2    958  0.188228          NaN\n",
       "3    485  0.761128     0.761128\n",
       "4    561  0.613681     0.613681\n",
       "5    500  0.332465          NaN\n",
       "6    649  0.763550     0.763550\n",
       "7    982  0.593056     0.593056\n",
       "8    220  0.159911          NaN"
      ]
     },
     "execution_count": 10,
     "metadata": {},
     "output_type": "execute_result"
    }
   ],
   "source": [
    "df['value_large'] = df['value'].where(filt)  ## here dimensions of df is retained\n",
    "df.head(9)"
   ]
  },
  {
   "cell_type": "code",
   "execution_count": 11,
   "metadata": {},
   "outputs": [
    {
     "data": {
      "text/html": [
       "<div>\n",
       "<style scoped>\n",
       "    .dataframe tbody tr th:only-of-type {\n",
       "        vertical-align: middle;\n",
       "    }\n",
       "\n",
       "    .dataframe tbody tr th {\n",
       "        vertical-align: top;\n",
       "    }\n",
       "\n",
       "    .dataframe thead th {\n",
       "        text-align: right;\n",
       "    }\n",
       "</style>\n",
       "<table border=\"1\" class=\"dataframe\">\n",
       "  <thead>\n",
       "    <tr style=\"text-align: right;\">\n",
       "      <th></th>\n",
       "      <th>sum</th>\n",
       "      <th>mean</th>\n",
       "      <th>median</th>\n",
       "    </tr>\n",
       "    <tr>\n",
       "      <th>group</th>\n",
       "      <th></th>\n",
       "      <th></th>\n",
       "      <th></th>\n",
       "    </tr>\n",
       "  </thead>\n",
       "  <tbody>\n",
       "    <tr>\n",
       "      <th>0</th>\n",
       "      <td>385.825433</td>\n",
       "      <td>0.750633</td>\n",
       "      <td>0.746220</td>\n",
       "    </tr>\n",
       "    <tr>\n",
       "      <th>1</th>\n",
       "      <td>392.238185</td>\n",
       "      <td>0.737290</td>\n",
       "      <td>0.737580</td>\n",
       "    </tr>\n",
       "    <tr>\n",
       "      <th>2</th>\n",
       "      <td>364.483918</td>\n",
       "      <td>0.753066</td>\n",
       "      <td>0.747955</td>\n",
       "    </tr>\n",
       "    <tr>\n",
       "      <th>3</th>\n",
       "      <td>388.433390</td>\n",
       "      <td>0.751322</td>\n",
       "      <td>0.756156</td>\n",
       "    </tr>\n",
       "    <tr>\n",
       "      <th>4</th>\n",
       "      <td>357.017243</td>\n",
       "      <td>0.746898</td>\n",
       "      <td>0.739531</td>\n",
       "    </tr>\n",
       "  </tbody>\n",
       "</table>\n",
       "</div>"
      ],
      "text/plain": [
       "              sum      mean    median\n",
       "group                                \n",
       "0      385.825433  0.750633  0.746220\n",
       "1      392.238185  0.737290  0.737580\n",
       "2      364.483918  0.753066  0.747955\n",
       "3      388.433390  0.751322  0.756156\n",
       "4      357.017243  0.746898  0.739531"
      ]
     },
     "execution_count": 11,
     "metadata": {},
     "output_type": "execute_result"
    }
   ],
   "source": [
    "## only use built-in group by methods\n",
    "df2 = df.groupby('group')['value_large'].agg(['sum', 'mean', 'median'])\n",
    "df2.head()"
   ]
  },
  {
   "cell_type": "code",
   "execution_count": 12,
   "metadata": {},
   "outputs": [
    {
     "data": {
      "text/html": [
       "<div>\n",
       "<style scoped>\n",
       "    .dataframe tbody tr th:only-of-type {\n",
       "        vertical-align: middle;\n",
       "    }\n",
       "\n",
       "    .dataframe tbody tr th {\n",
       "        vertical-align: top;\n",
       "    }\n",
       "\n",
       "    .dataframe thead th {\n",
       "        text-align: right;\n",
       "    }\n",
       "</style>\n",
       "<table border=\"1\" class=\"dataframe\">\n",
       "  <thead>\n",
       "    <tr style=\"text-align: right;\">\n",
       "      <th></th>\n",
       "      <th>sum</th>\n",
       "      <th>mean</th>\n",
       "      <th>median</th>\n",
       "      <th>diff</th>\n",
       "    </tr>\n",
       "    <tr>\n",
       "      <th>group</th>\n",
       "      <th></th>\n",
       "      <th></th>\n",
       "      <th></th>\n",
       "      <th></th>\n",
       "    </tr>\n",
       "  </thead>\n",
       "  <tbody>\n",
       "    <tr>\n",
       "      <th>0</th>\n",
       "      <td>385.825433</td>\n",
       "      <td>0.750633</td>\n",
       "      <td>0.746220</td>\n",
       "      <td>0.004413</td>\n",
       "    </tr>\n",
       "    <tr>\n",
       "      <th>1</th>\n",
       "      <td>392.238185</td>\n",
       "      <td>0.737290</td>\n",
       "      <td>0.737580</td>\n",
       "      <td>-0.000291</td>\n",
       "    </tr>\n",
       "    <tr>\n",
       "      <th>2</th>\n",
       "      <td>364.483918</td>\n",
       "      <td>0.753066</td>\n",
       "      <td>0.747955</td>\n",
       "      <td>0.005111</td>\n",
       "    </tr>\n",
       "    <tr>\n",
       "      <th>3</th>\n",
       "      <td>388.433390</td>\n",
       "      <td>0.751322</td>\n",
       "      <td>0.756156</td>\n",
       "      <td>-0.004834</td>\n",
       "    </tr>\n",
       "    <tr>\n",
       "      <th>4</th>\n",
       "      <td>357.017243</td>\n",
       "      <td>0.746898</td>\n",
       "      <td>0.739531</td>\n",
       "      <td>0.007367</td>\n",
       "    </tr>\n",
       "  </tbody>\n",
       "</table>\n",
       "</div>"
      ],
      "text/plain": [
       "              sum      mean    median      diff\n",
       "group                                          \n",
       "0      385.825433  0.750633  0.746220  0.004413\n",
       "1      392.238185  0.737290  0.737580 -0.000291\n",
       "2      364.483918  0.753066  0.747955  0.005111\n",
       "3      388.433390  0.751322  0.756156 -0.004834\n",
       "4      357.017243  0.746898  0.739531  0.007367"
      ]
     },
     "execution_count": 12,
     "metadata": {},
     "output_type": "execute_result"
    }
   ],
   "source": [
    "## finally calculate the columns that depend on aggregated result\n",
    "df2[\"diff\"] = df2['mean'] - df2['median']\n",
    "df2.head()"
   ]
  },
  {
   "cell_type": "code",
   "execution_count": 13,
   "metadata": {},
   "outputs": [
    {
     "name": "stdout",
     "output_type": "stream",
     "text": [
      "131 ms ± 875 µs per loop (mean ± std. dev. of 7 runs, 10 loops each)\n"
     ]
    }
   ],
   "source": [
    "%%timeit \n",
    "## putting all these steps together to timeit\n",
    "filt = df['value'] > 0.5\n",
    "df['value_large'] = df['value'].where(filt)\n",
    "df2 = df.groupby('group')['value_large'].agg(['sum', 'mean', 'median'])\n",
    "df2[\"diff\"] = df2['mean'] - df2['median']\n",
    "df2.head()"
   ]
  },
  {
   "cell_type": "code",
   "execution_count": 14,
   "metadata": {},
   "outputs": [
    {
     "name": "stdout",
     "output_type": "stream",
     "text": [
      "1.23 s ± 14.1 ms per loop (mean ± std. dev. of 7 runs, 1 loop each)\n"
     ]
    }
   ],
   "source": [
    "%timeit df.groupby('group').apply(f)"
   ]
  },
  {
   "cell_type": "markdown",
   "metadata": {},
   "source": [
    "So try to do calculations outside of groupby and rely only on built-in aggregate functions"
   ]
  },
  {
   "cell_type": "markdown",
   "metadata": {},
   "source": [
    "## References\n",
    "\n",
    "-  [Python Data Science handbook - aggregation-and-grouping](https://jakevdp.github.io/PythonDataScienceHandbook/03.08-aggregation-and-grouping.html)"
   ]
  }
 ],
 "metadata": {
  "kernelspec": {
   "display_name": "Python 3",
   "language": "python",
   "name": "python3"
  },
  "language_info": {
   "codemirror_mode": {
    "name": "ipython",
    "version": 3
   },
   "file_extension": ".py",
   "mimetype": "text/x-python",
   "name": "python",
   "nbconvert_exporter": "python",
   "pygments_lexer": "ipython3",
   "version": "3.7.3"
  }
 },
 "nbformat": 4,
 "nbformat_minor": 2
}
