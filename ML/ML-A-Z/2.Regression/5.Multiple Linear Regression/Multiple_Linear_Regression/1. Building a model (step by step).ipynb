{
 "cells": [
  {
   "cell_type": "markdown",
   "metadata": {},
   "source": [
    "### 5 methods of building a model:\n",
    "\n",
    "1. All-in\n",
    "2. Backward Elimination\n",
    "3. Forward selection\n",
    "4. Bidirectional Elimination\n",
    "5. Score comparison\n",
    "\n",
    "\n",
    "##### Step-wise regression (refers to) -> Backward Elimination,  Forward selection, Bidirectional Elimination\n",
    "\n",
    "But usually __Step-wise regression__ implies  __Backward Elimination__.\n",
    "\n",
    "\n",
    "- __All-in :__ used in cases when\n",
    "            - Prior knowledge of every variable and you are sure, OR\n",
    "            - You have to as per requirements, OR\n",
    "            - Prepring for backward elimination.\n"
   ]
  },
  {
   "cell_type": "code",
   "execution_count": null,
   "metadata": {},
   "outputs": [],
   "source": []
  }
 ],
 "metadata": {
  "kernelspec": {
   "display_name": "Python 3",
   "language": "python",
   "name": "python3"
  },
  "language_info": {
   "codemirror_mode": {
    "name": "ipython",
    "version": 3
   },
   "file_extension": ".py",
   "mimetype": "text/x-python",
   "name": "python",
   "nbconvert_exporter": "python",
   "pygments_lexer": "ipython3",
   "version": "3.7.2"
  }
 },
 "nbformat": 4,
 "nbformat_minor": 2
}
